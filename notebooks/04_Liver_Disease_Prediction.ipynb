{
 "cells": [
  {
   "cell_type": "markdown",
   "id": "f7ea9c36",
   "metadata": {},
   "source": [
    "# Liver Disease Prediction Model\n",
    "\n",
    "This notebook trains a classification model to predict liver disease based on blood test results.\n",
    "\n",
    "**Features:** Age, Gender, Total Bilirubin, Direct Bilirubin, Alkaline Phosphotase, Alamine Aminotransferase, Aspartate Aminotransferase, Total Proteins, Albumin, Albumin/Globulin Ratio  \n",
    "**Target:** Liver disease (1) or Not (2)  \n",
    "**Dataset:** Indian Liver Patient Dataset (ILPD)"
   ]
  },
  {
   "cell_type": "code",
   "execution_count": null,
   "id": "4a381f40",
   "metadata": {},
   "outputs": [],
   "source": [
    "import pandas as pd\n",
    "import numpy as np\n",
    "import matplotlib.pyplot as plt\n",
    "import seaborn as sns\n",
    "from sklearn.model_selection import train_test_split\n",
    "from sklearn.preprocessing import StandardScaler, LabelEncoder\n",
    "from sklearn.ensemble import RandomForestClassifier, GradientBoostingClassifier\n",
    "from sklearn.svm import SVC\n",
    "from sklearn.metrics import (\n",
    "    accuracy_score, classification_report, confusion_matrix,\n",
    "    roc_curve, roc_auc_score, precision_score, recall_score, f1_score\n",
    ")\n",
    "import joblib\n",
    "import warnings\n",
    "warnings.filterwarnings('ignore')\n",
    "\n",
    "# Set plot styles\n",
    "sns.set_style('whitegrid')\n",
    "plt.rcParams['figure.figsize'] = (10, 6)\n",
    "\n",
    "print(\"✓ Libraries loaded!\")"
   ]
  },
  {
   "cell_type": "markdown",
   "id": "856782cc",
   "metadata": {},
   "source": [
    "## Load Dataset\n",
    "\n",
    "**Dataset:** https://www.kaggle.com/datasets/uciml/indian-liver-patient-records"
   ]
  },
  {
   "cell_type": "code",
   "execution_count": null,
   "id": "e7e0fb5c",
   "metadata": {},
   "outputs": [],
   "source": [
    "# TODO: Load your liver disease dataset\n",
    "# df = pd.read_csv('path/to/liver_disease.csv')\n",
    "# Expected columns: Age, Gender, Total_Bilirubin, Direct_Bilirubin, \n",
    "#                   Alkaline_Phosphotase, Alamine_Aminotransferase,\n",
    "#                   Aspartate_Aminotransferase, Total_Protiens,\n",
    "#                   Albumin, Albumin_and_Globulin_Ratio, Dataset\n",
    "# display(df.head())\n",
    "# print(f\"Shape: {df.shape}\")"
   ]
  },
  {
   "cell_type": "markdown",
   "id": "36cdf24f",
   "metadata": {},
   "source": [
    "## EDA"
   ]
  },
  {
   "cell_type": "code",
   "execution_count": null,
   "id": "be3762b4",
   "metadata": {},
   "outputs": [],
   "source": [
    "# print(df.info())\n",
    "# print(\"\\nMissing values:\")\n",
    "# print(df.isnull().sum())\n",
    "# print(\"\\nTarget distribution:\")\n",
    "# print(df['Dataset'].value_counts())  # 1=liver patient, 2=non-liver patient"
   ]
  },
  {
   "cell_type": "code",
   "execution_count": null,
   "id": "7d527c2c",
   "metadata": {},
   "outputs": [],
   "source": [
    "# fig, axes = plt.subplots(2, 2, figsize=(14, 10))\n",
    "# df['Dataset'].value_counts().plot(kind='bar', ax=axes[0,0])\n",
    "# axes[0,0].set_title('Target Distribution')\n",
    "# df['Age'].hist(bins=30, ax=axes[0,1])\n",
    "# axes[0,1].set_title('Age Distribution')\n",
    "# sns.heatmap(df.corr(), annot=False, cmap='coolwarm', ax=axes[1,0])\n",
    "# axes[1,0].set_title('Correlation Matrix')\n",
    "# df.boxplot(column='Total_Bilirubin', by='Dataset', ax=axes[1,1])\n",
    "# plt.tight_layout()\n",
    "# plt.show()"
   ]
  },
  {
   "cell_type": "markdown",
   "id": "83268914",
   "metadata": {},
   "source": [
    "## Preprocessing"
   ]
  },
  {
   "cell_type": "code",
   "execution_count": null,
   "id": "350594a4",
   "metadata": {},
   "outputs": [],
   "source": [
    "# Handle missing values\n",
    "# df = df.fillna(df.median(numeric_only=True))\n",
    "# \n",
    "# # Encode gender\n",
    "# le = LabelEncoder()\n",
    "# df['Gender'] = le.fit_transform(df['Gender'])  # Male=1, Female=0\n",
    "# \n",
    "# # Separate features and target\n",
    "# X = df.drop('Dataset', axis=1)\n",
    "# y = df['Dataset']\n",
    "# # Convert target: 1=disease, 0=no disease\n",
    "# y = (y == 1).astype(int)\n",
    "# \n",
    "# print(f\"Features: {X.shape}\")\n",
    "# print(f\"Target: {y.value_counts()}\")"
   ]
  },
  {
   "cell_type": "code",
   "execution_count": null,
   "id": "6438036b",
   "metadata": {},
   "outputs": [],
   "source": [
    "# X_train, X_test, y_train, y_test = train_test_split(\n",
    "#     X, y, test_size=0.2, random_state=42, stratify=y\n",
    "# )\n",
    "# \n",
    "# scaler = StandardScaler()\n",
    "# X_train_scaled = scaler.fit_transform(X_train)\n",
    "# X_test_scaled = scaler.transform(X_test)\n",
    "# print(\"✓ Data split and scaled!\")"
   ]
  },
  {
   "cell_type": "markdown",
   "id": "2280f4ea",
   "metadata": {},
   "source": [
    "## Model Training"
   ]
  },
  {
   "cell_type": "code",
   "execution_count": null,
   "id": "01a323cf",
   "metadata": {},
   "outputs": [],
   "source": [
    "# models = {\n",
    "#     'Random Forest': RandomForestClassifier(n_estimators=200, random_state=42),\n",
    "#     'Gradient Boosting': GradientBoostingClassifier(n_estimators=200, random_state=42),\n",
    "#     'SVM': SVC(probability=True, kernel='rbf')\n",
    "# }\n",
    "# \n",
    "# for name, model in models.items():\n",
    "#     model.fit(X_train_scaled, y_train)\n",
    "#     y_pred = model.predict(X_test_scaled)\n",
    "#     acc = accuracy_score(y_test, y_pred)\n",
    "#     print(f\"{name:20s} Accuracy: {acc:.4f}\")"
   ]
  },
  {
   "cell_type": "code",
   "execution_count": null,
   "id": "7173a3ca",
   "metadata": {},
   "outputs": [],
   "source": [
    "# Select best model and evaluate\n",
    "# best_model = models['Random Forest']  # Replace with actual best\n",
    "# y_pred = best_model.predict(X_test_scaled)\n",
    "# \n",
    "# print(\"Classification Report:\")\n",
    "# print(classification_report(y_test, y_pred, target_names=['No Disease', 'Liver Disease']))\n",
    "# \n",
    "# cm = confusion_matrix(y_test, y_pred)\n",
    "# sns.heatmap(cm, annot=True, fmt='d', cmap='Greens')\n",
    "# plt.title('Confusion Matrix - Liver Disease')\n",
    "# plt.show()"
   ]
  },
  {
   "cell_type": "code",
   "execution_count": null,
   "id": "987c490b",
   "metadata": {},
   "outputs": [],
   "source": [
    "# Feature importance (for tree-based models)\n",
    "# if hasattr(best_model, 'feature_importances_'):\n",
    "#     importance_df = pd.DataFrame({\n",
    "#         'feature': X.columns,\n",
    "#         'importance': best_model.feature_importances_\n",
    "#     }).sort_values('importance', ascending=False)\n",
    "#     \n",
    "#     plt.figure(figsize=(10, 6))\n",
    "#     plt.barh(importance_df['feature'], importance_df['importance'], color='mediumseagreen')\n",
    "#     plt.xlabel('Importance Score', fontsize=12)\n",
    "#     plt.title('Feature Importance - Liver Disease Prediction', fontsize=14, fontweight='bold')\n",
    "#     plt.gca().invert_yaxis()\n",
    "#     plt.tight_layout()\n",
    "#     plt.show()\n",
    "#     \n",
    "#     print(\"\\nMost Important Blood Test Markers:\")\n",
    "#     print(importance_df.to_string(index=False))"
   ]
  },
  {
   "cell_type": "markdown",
   "id": "547c2855",
   "metadata": {},
   "source": [
    "### Feature Importance"
   ]
  },
  {
   "cell_type": "code",
   "execution_count": null,
   "id": "246f66df",
   "metadata": {},
   "outputs": [],
   "source": [
    "# Performance metrics visualization\n",
    "# metrics = {\n",
    "#     'Accuracy': accuracy_score(y_test, y_pred),\n",
    "#     'Precision': precision_score(y_test, y_pred),\n",
    "#     'Recall': recall_score(y_test, y_pred),\n",
    "#     'F1-Score': f1_score(y_test, y_pred),\n",
    "#     'ROC-AUC': roc_auc\n",
    "# }\n",
    "# \n",
    "# plt.figure(figsize=(10, 6))\n",
    "# colors = ['#3498db', '#e74c3c', '#2ecc71', '#f39c12', '#9b59b6']\n",
    "# bars = plt.bar(metrics.keys(), metrics.values(), color=colors)\n",
    "# plt.ylim([0, 1])\n",
    "# plt.ylabel('Score', fontsize=12)\n",
    "# plt.title('Model Performance Metrics - Liver Disease', fontsize=14, fontweight='bold')\n",
    "# plt.axhline(y=0.8, color='gray', linestyle='--', alpha=0.5, label='80% threshold')\n",
    "# plt.grid(axis='y', alpha=0.3)\n",
    "# plt.legend()\n",
    "# \n",
    "# for i, (key, value) in enumerate(metrics.items()):\n",
    "#     plt.text(i, value + 0.02, f'{value:.3f}', ha='center', fontweight='bold')\n",
    "# \n",
    "# plt.xticks(rotation=15, ha='right')\n",
    "# plt.tight_layout()\n",
    "# plt.show()\n",
    "# \n",
    "# print(\"\\nMetrics Summary:\")\n",
    "# for metric, value in metrics.items():\n",
    "#     print(f\"  {metric:12s}: {value:.4f}\")"
   ]
  },
  {
   "cell_type": "markdown",
   "id": "0959a1b3",
   "metadata": {},
   "source": [
    "### Performance Metrics"
   ]
  },
  {
   "cell_type": "code",
   "execution_count": null,
   "id": "bc68bae3",
   "metadata": {},
   "outputs": [],
   "source": [
    "# ROC Curve\n",
    "# fpr, tpr, thresholds = roc_curve(y_test, y_proba)\n",
    "# roc_auc = roc_auc_score(y_test, y_proba)\n",
    "# \n",
    "# plt.figure(figsize=(8, 6))\n",
    "# plt.plot(fpr, tpr, color='darkgreen', lw=2, label=f'ROC curve (AUC = {roc_auc:.3f})')\n",
    "# plt.plot([0, 1], [0, 1], color='navy', lw=2, linestyle='--', label='Random Classifier')\n",
    "# plt.xlim([0.0, 1.0])\n",
    "# plt.ylim([0.0, 1.05])\n",
    "# plt.xlabel('False Positive Rate', fontsize=12)\n",
    "# plt.ylabel('True Positive Rate', fontsize=12)\n",
    "# plt.title('ROC Curve - Liver Disease Prediction', fontsize=14, fontweight='bold')\n",
    "# plt.legend(loc=\"lower right\")\n",
    "# plt.grid(alpha=0.3)\n",
    "# plt.tight_layout()\n",
    "# plt.show()\n",
    "# \n",
    "# print(f\"Area Under ROC Curve: {roc_auc:.4f}\")"
   ]
  },
  {
   "cell_type": "markdown",
   "id": "e947df9b",
   "metadata": {},
   "source": [
    "### ROC Curve"
   ]
  },
  {
   "cell_type": "code",
   "execution_count": null,
   "id": "3045be17",
   "metadata": {},
   "outputs": [],
   "source": [
    "# Detailed evaluation with enhanced confusion matrix\n",
    "# y_pred = best_model.predict(X_test_scaled)\n",
    "# y_proba = best_model.predict_proba(X_test_scaled)[:, 1]\n",
    "# \n",
    "# print(\"Classification Report:\")\n",
    "# print(\"=\"*60)\n",
    "# print(classification_report(y_test, y_pred, target_names=['No Disease', 'Liver Disease']))\n",
    "# \n",
    "# # Enhanced Confusion Matrix\n",
    "# cm = confusion_matrix(y_test, y_pred)\n",
    "# fig, (ax1, ax2) = plt.subplots(1, 2, figsize=(14, 6))\n",
    "# \n",
    "# # Count-based confusion matrix\n",
    "# sns.heatmap(cm, annot=True, fmt='d', cmap='Greens',\n",
    "#             xticklabels=['No Disease', 'Liver Disease'],\n",
    "#             yticklabels=['No Disease', 'Liver Disease'],\n",
    "#             ax=ax1, cbar_kws={'label': 'Count'})\n",
    "# ax1.set_title('Confusion Matrix (Counts)', fontsize=14, fontweight='bold')\n",
    "# ax1.set_ylabel('Actual', fontsize=12)\n",
    "# ax1.set_xlabel('Predicted', fontsize=12)\n",
    "# \n",
    "# # Normalized confusion matrix\n",
    "# cm_norm = cm.astype('float') / cm.sum(axis=1)[:, np.newaxis]\n",
    "# sns.heatmap(cm_norm, annot=True, fmt='.2%', cmap='Greens',\n",
    "#             xticklabels=['No Disease', 'Liver Disease'],\n",
    "#             yticklabels=['No Disease', 'Liver Disease'],\n",
    "#             ax=ax2, cbar_kws={'label': 'Percentage'})\n",
    "# ax2.set_title('Normalized Confusion Matrix (%)', fontsize=14, fontweight='bold')\n",
    "# ax2.set_ylabel('Actual', fontsize=12)\n",
    "# ax2.set_xlabel('Predicted', fontsize=12)\n",
    "# \n",
    "# plt.tight_layout()\n",
    "# plt.show()\n",
    "# \n",
    "# # Detailed metrics\n",
    "# tn, fp, fn, tp = cm.ravel()\n",
    "# print(f\"\\nConfusion Matrix Breakdown:\")\n",
    "# print(f\"  True Negatives:  {tn}\")\n",
    "# print(f\"  False Positives: {fp}\")\n",
    "# print(f\"  False Negatives: {fn} ⚠️\")\n",
    "# print(f\"  True Positives:  {tp}\")"
   ]
  },
  {
   "cell_type": "markdown",
   "id": "c37cebc9",
   "metadata": {},
   "source": [
    "## Model Evaluation with Visualizations"
   ]
  },
  {
   "cell_type": "markdown",
   "id": "d034ea95",
   "metadata": {},
   "source": [
    "## Save Model"
   ]
  },
  {
   "cell_type": "code",
   "execution_count": null,
   "id": "fbac0788",
   "metadata": {},
   "outputs": [],
   "source": [
    "# joblib.dump(best_model, '../Frontend/models/liver_model.sav')\n",
    "# joblib.dump(scaler, '../Frontend/models/liver_scaler.sav')\n",
    "# print(\"✓ Model and scaler saved!\")"
   ]
  },
  {
   "cell_type": "markdown",
   "id": "34090b94",
   "metadata": {},
   "source": [
    "## Usage"
   ]
  },
  {
   "cell_type": "code",
   "execution_count": null,
   "id": "2f422c27",
   "metadata": {},
   "outputs": [],
   "source": [
    "# def predict_liver_disease(gender, age, total_bilirubin, direct_bilirubin,\n",
    "#                          alkaline_phosphotase, alamine_aminotransferase,\n",
    "#                          aspartate_aminotransferase, total_proteins,\n",
    "#                          albumin, ag_ratio):\n",
    "#     model = joblib.load('../Frontend/models/liver_model.sav')\n",
    "#     scaler = joblib.load('../Frontend/models/liver_scaler.sav')\n",
    "#     \n",
    "#     input_data = np.array([[gender, age, total_bilirubin, direct_bilirubin,\n",
    "#                             alkaline_phosphotase, alamine_aminotransferase,\n",
    "#                             aspartate_aminotransferase, total_proteins,\n",
    "#                             albumin, ag_ratio]])\n",
    "#     input_scaled = scaler.transform(input_data)\n",
    "#     prediction = model.predict(input_scaled)[0]\n",
    "#     return 'Liver Disease' if prediction == 1 else 'No Disease'\n",
    "# \n",
    "# # Test\n",
    "# result = predict_liver_disease(1, 65, 0.7, 0.1, 187, 16, 18, 6.8, 3.3, 0.90)\n",
    "# print(f\"Prediction: {result}\")"
   ]
  }
 ],
 "metadata": {
  "language_info": {
   "name": "python"
  }
 },
 "nbformat": 4,
 "nbformat_minor": 5
}
